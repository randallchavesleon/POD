{
  "cells": [
    {
      "cell_type": "markdown",
      "metadata": {
        "id": "view-in-github",
        "colab_type": "text"
      },
      "source": [
        "<a href=\"https://colab.research.google.com/github/randallchavesleon/POD/blob/main/Credit_Risk_Model.ipynb\" target=\"_parent\"><img src=\"https://colab.research.google.com/assets/colab-badge.svg\" alt=\"Open In Colab\"/></a>"
      ]
    },
    {
      "cell_type": "markdown",
      "source": [
        "South German Credit. (2019). UCI Machine Learning Repository. https://doi.org/10.24432/C5X89F."
      ],
      "metadata": {
        "id": "plfJlRxzmiwN"
      },
      "id": "plfJlRxzmiwN"
    },
    {
      "cell_type": "markdown",
      "source": [
        "# This section contains a brief description for each attribute.\n",
        "\n",
        "Column name: laufkont\n",
        "Variable name: status\n",
        "Content: status of the debtor's checking account with the bank (categorical)\n",
        "\n",
        "Column name: laufzeit\n",
        "Variable name: duration\n",
        "Content: credit duration in months (quantitative)\n",
        "\n",
        "Column name: moral\n",
        "Variable name: credit_history\n",
        "Content: history of compliance with previous or concurrent credit contracts (categorical)\n",
        "\n",
        "Column name: verw\n",
        "Variable name: purpose\n",
        "Content: purpose for which the credit is needed (categorical)\n",
        "\n",
        "Column name: hoehe\n",
        "Variable name: amount\n",
        "Content: credit amount in DM (quantitative; result of monotonic transformation; actual data and type of\n",
        "transformation unknown)\n",
        "\n",
        "Column name: sparkont\n",
        "Variable name: savings\n",
        "Content: debtor's savings (categorical)\n",
        "\n",
        "Column name: beszeit\n",
        "Variable name: employment_duration\n",
        "Content: duration of debtor's employment with current employer (ordinal; discretized quantitative)\n",
        "\n",
        "Column name: rate\n",
        "Variable name: installment_rate\n",
        "Content: credit installments as a percentage of debtor's disposable income (ordinal; discretized quantitative)\n",
        "\n",
        "Column name: famges\n",
        "Variable name: personal_status_sex\n",
        "Content: combined information on sex and marital status; categorical; sex cannot be recovered from the\n",
        "variable, because male singles and female non-singles are coded with the same code (2); female widows cannot\n",
        "be easily classified, because the code table does not list them in any of the female categories\n",
        "\n",
        "Column name: buerge\n",
        "Variable name: other_debtors\n",
        "Content: Is there another debtor or a guarantor for the credit? (categorical)\n",
        "\n",
        "Column name: wohnzeit\n",
        "Variable name: present_residence\n",
        "Content: length of time (in years) the debtor lives in the present residence (ordinal; discretized quantitative)\n",
        "\n",
        "Column name: verm\n",
        "Variable name: property\n",
        "Content: the debtor's most valuable property, i.e. the highest possible code is used. Code 2 is used, if codes 3\n",
        "or 4 are not applicable and there is a car or any other relevant property that does not fall under variable\n",
        "sparkont. (ordinal)\n",
        "\n",
        "Column name: alter\n",
        "Variable name: age\n",
        "Content: age in years (quantitative)\n",
        "\n",
        "Column name: weitkred\n",
        "Variable name: other_installment_plans\n",
        "Content: installment plans from providers other than the credit-giving bank (categorical)\n",
        "\n",
        "Column name: wohn\n",
        "Variable name: housing\n",
        "Content: type of housing the debtor lives in (categorical)\n",
        "\n",
        "Column name: bishkred\n",
        "Variable name: number_credits\n",
        "Content: number of credits including the current one the debtor has (or had) at this bank (ordinal, discretized\n",
        "quantitative); contrary to Fahrmeir and HamerleÃ¢â‚¬â„¢s (1984) statement, the original data values are not available.\n",
        "\n",
        "Column name: beruf\n",
        "Variable name: job\n",
        "Content: quality of debtor's job (ordinal)\n",
        "\n",
        "Column name: pers\n",
        "Variable name: people_liable\n",
        "Content: number of persons who financially depend on the debtor (i.e., are entitled to maintenance) (binary,\n",
        "discretized quantitative)\n",
        "\n",
        "Column name: telef\n",
        "Variable name: telephone\n",
        "Content: Is there a telephone landline registered on the debtor's name? (binary; remember that the data are\n",
        "from the 1970s)\n",
        "\n",
        "Column name: gastarb\n",
        "Variable name: foreign_worker\n",
        "Content: Is the debtor a foreign worker? (binary)\n",
        "\n",
        "Column name: kredit\n",
        "Variable name: credit_risk\n",
        "Content: Has the credit contract been complied with (good) or not (bad) ? (binary)"
      ],
      "metadata": {
        "id": "pgKnK4psmzIl"
      },
      "id": "pgKnK4psmzIl"
    },
    {
      "cell_type": "code",
      "source": [
        "import pandas as pd\n",
        "\n",
        "data = pd.read_csv(\"SouthGermanCredit.asc\", sep = \" \")\n"
      ],
      "metadata": {
        "id": "egjV1l7um3sP"
      },
      "id": "egjV1l7um3sP",
      "execution_count": null,
      "outputs": []
    },
    {
      "cell_type": "code",
      "source": [],
      "metadata": {
        "id": "JcfJhRZVnwXU"
      },
      "id": "JcfJhRZVnwXU",
      "execution_count": null,
      "outputs": []
    }
  ],
  "metadata": {
    "kernelspec": {
      "display_name": "Python 3 (ipykernel)",
      "language": "python",
      "name": "python3"
    },
    "language_info": {
      "codemirror_mode": {
        "name": "ipython",
        "version": 3
      },
      "file_extension": ".py",
      "mimetype": "text/x-python",
      "name": "python",
      "nbconvert_exporter": "python",
      "pygments_lexer": "ipython3",
      "version": "3.11.4"
    },
    "colab": {
      "provenance": [],
      "include_colab_link": true
    }
  },
  "nbformat": 4,
  "nbformat_minor": 5
}